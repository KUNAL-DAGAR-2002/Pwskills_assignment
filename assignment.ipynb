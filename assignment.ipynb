{
 "cells": [
  {
   "cell_type": "code",
   "execution_count": 1,
   "id": "a1625a7c-7bd7-4550-89bd-85e5d78265b1",
   "metadata": {},
   "outputs": [
    {
     "data": {
      "text/plain": [
       "'Q. Explain with an example each when to use a for loop and a while loop.\\n\\nAns => Whenever we know the number of iterations in that case we use the for the loop but on the other hand when the number of iterations are unknown to us, in that case we are using the while loop.\\n\\nfor example for traversing a list, dictionary, string, tuple etc. we are going to use a for loop.\\n\\nBut in the case when we do not know, for how much time the situation is going to be true we will be using while loop.'"
      ]
     },
     "execution_count": 1,
     "metadata": {},
     "output_type": "execute_result"
    }
   ],
   "source": [
    "'''Q. Explain with an example each when to use a for loop and a while loop.\n",
    "\n",
    "Ans => Whenever we know the number of iterations in that case we use the for the loop but on the other hand when the number of iterations are unknown to us, in that case we are using the while loop.\n",
    "\n",
    "for example for traversing a list, dictionary, string, tuple etc. we are going to use a for loop.\n",
    "\n",
    "But in the case when we do not know, for how much time the situation is going to be true we will be using while loop.'''"
   ]
  },
  {
   "cell_type": "code",
   "execution_count": 2,
   "id": "cbe77290-1f80-4ef4-a0dd-fdd0383b8a9f",
   "metadata": {},
   "outputs": [
    {
     "name": "stdout",
     "output_type": "stream",
     "text": [
      "55\n",
      "3628800\n"
     ]
    }
   ],
   "source": [
    "'''Q2. Write a python program to print the sum and product of the first 10 natural numbers using for\n",
    "and while loop.'''\n",
    "\n",
    "# using for loop\n",
    "add = 0\n",
    "prod = 1\n",
    "for i in range(1,11):\n",
    "    add = add+i\n",
    "    prod = prod*i\n",
    "print(add)\n",
    "print(prod)\n",
    "    "
   ]
  },
  {
   "cell_type": "code",
   "execution_count": 4,
   "id": "1ff44db0-24c3-4ced-9d85-cdaecbf0e75e",
   "metadata": {},
   "outputs": [
    {
     "name": "stdout",
     "output_type": "stream",
     "text": [
      "55\n",
      "3628800\n"
     ]
    }
   ],
   "source": [
    "#using while loop\n",
    "add = 0\n",
    "prod = 1\n",
    "i = 1\n",
    "while(i!=11):\n",
    "    add = add+i\n",
    "    prod = prod*i\n",
    "    i = i+1\n",
    "print(add)\n",
    "print(prod)"
   ]
  },
  {
   "cell_type": "code",
   "execution_count": 5,
   "id": "48abef9f-384c-443b-bd77-ef50bbc2d1b6",
   "metadata": {},
   "outputs": [
    {
     "data": {
      "text/plain": [
       "'Q3. Create a python program to compute the electricity bill for a household.\\nThe per-unit charges in rupees are as follows: For the first 100 units, the user will be charged Rs. 4.5 per\\nunit, for the next 100 units, the user will be charged Rs. 6 per unit, and for the next 100 units, the user will\\nbe charged Rs. 10 per unit, After 300 units and above the user will be charged Rs. 20 per unit.\\nYou are required to take the units of electricity consumed in a month from the user as input.\\nYour program must pass this test case: when the unit of electricity consumed by the user in a month is\\n310, the total electricity bill should be 2250.\\n\\n100 - 4.5\\n100 - 6\\n100 - 10\\nlater - 20'"
      ]
     },
     "execution_count": 5,
     "metadata": {},
     "output_type": "execute_result"
    }
   ],
   "source": [
    "'''Q3. Create a python program to compute the electricity bill for a household.\n",
    "The per-unit charges in rupees are as follows: For the first 100 units, the user will be charged Rs. 4.5 per\n",
    "unit, for the next 100 units, the user will be charged Rs. 6 per unit, and for the next 100 units, the user will\n",
    "be charged Rs. 10 per unit, After 300 units and above the user will be charged Rs. 20 per unit.\n",
    "You are required to take the units of electricity consumed in a month from the user as input.\n",
    "Your program must pass this test case: when the unit of electricity consumed by the user in a month is\n",
    "310, the total electricity bill should be 2250.\n",
    "\n",
    "100 - 4.5\n",
    "100 - 6\n",
    "100 - 10\n",
    "later - 20'''"
   ]
  },
  {
   "cell_type": "code",
   "execution_count": 6,
   "id": "54bf94ab-fb71-487a-a2a5-d5e346bed2fe",
   "metadata": {},
   "outputs": [
    {
     "name": "stdin",
     "output_type": "stream",
     "text": [
      "Please enter the number of units you have consumed. 310\n"
     ]
    },
    {
     "name": "stdout",
     "output_type": "stream",
     "text": [
      "The total electrcity bill is :  2250.0\n"
     ]
    }
   ],
   "source": [
    "monthly_units = int(input(\"Please enter the number of units you have consumed.\"))\n",
    "li = []\n",
    "total = 0\n",
    "while(monthly_units>0):\n",
    "    li.append(monthly_units)\n",
    "    monthly_units = monthly_units-100 #Breaking down in parts of 100\n",
    "for i in range(len(li)):\n",
    "    if(li[i]>100):\n",
    "        li[i] = 100  \n",
    "\n",
    "for i in range(len(li)):\n",
    "    if(i==0):\n",
    "        bill = li[i]*4.5 #Calculating the bill as per constrains\n",
    "        total = total+bill\n",
    "    \n",
    "    elif(i==1): \n",
    "        bill = li[i]*6\n",
    "        total = total+bill\n",
    "        \n",
    "    elif(i==2):\n",
    "        bill = li[i]*10\n",
    "        total = total+bill\n",
    "        \n",
    "    else:\n",
    "        bill = li[i]*20\n",
    "        total = total+bill\n",
    "        \n",
    "print(\"The total electrcity bill is : \",total)\n",
    "\n",
    "\n",
    "        "
   ]
  },
  {
   "cell_type": "code",
   "execution_count": 7,
   "id": "755d58e4-0927-4b0a-9400-b27050a36575",
   "metadata": {},
   "outputs": [
    {
     "data": {
      "text/plain": [
       "'Create a list of numbers from 1 to 100. Use for loop and while loop to calculate the cube of each\\nnumber and if the cube of that number is divisible by 4 or 5 then append that number in a list and print\\nthat list.'"
      ]
     },
     "execution_count": 7,
     "metadata": {},
     "output_type": "execute_result"
    }
   ],
   "source": [
    "'''Create a list of numbers from 1 to 100. Use for loop and while loop to calculate the cube of each\n",
    "number and if the cube of that number is divisible by 4 or 5 then append that number in a list and print\n",
    "that list.'''\n"
   ]
  },
  {
   "cell_type": "code",
   "execution_count": 8,
   "id": "12200bb2-3db0-4f8b-bbbf-c796a4945b69",
   "metadata": {},
   "outputs": [],
   "source": [
    "new_list = list(range(1,101))\n",
    "list2 = []"
   ]
  },
  {
   "cell_type": "code",
   "execution_count": 9,
   "id": "9fb205d2-8392-4656-912f-7378978d1119",
   "metadata": {},
   "outputs": [
    {
     "name": "stdout",
     "output_type": "stream",
     "text": [
      "[8, 64, 125, 216, 512, 1000, 1728, 2744, 3375, 4096, 5832, 8000, 10648, 13824, 15625, 17576, 21952, 27000, 32768, 39304, 42875, 46656, 54872, 64000, 74088, 85184, 91125, 97336, 110592, 125000, 140608, 157464, 166375, 175616, 195112, 216000, 238328, 262144, 274625, 287496, 314432, 343000, 373248, 405224, 421875, 438976, 474552, 512000, 551368, 592704, 614125, 636056, 681472, 729000, 778688, 830584, 857375, 884736, 941192, 1000000]\n"
     ]
    }
   ],
   "source": [
    "# Using For Loop\n",
    "for i in range(len(new_list)):\n",
    "    new_list[i] = new_list[i]**3\n",
    "    if(new_list[i]%4==0 or new_list[i]%5==0):\n",
    "        list2.append(new_list[i])\n",
    "print(list2)\n"
   ]
  },
  {
   "cell_type": "code",
   "execution_count": 10,
   "id": "780adb15-acf3-4fce-b68e-f4738b7aae28",
   "metadata": {},
   "outputs": [],
   "source": [
    "new_list1 = list(range(1,101))\n",
    "list2 = []"
   ]
  },
  {
   "cell_type": "code",
   "execution_count": 11,
   "id": "837114ec-0dff-4461-9d45-e2b58e55f8fa",
   "metadata": {},
   "outputs": [
    {
     "name": "stdout",
     "output_type": "stream",
     "text": [
      "[8, 64, 125, 216, 512, 1000, 1728, 2744, 3375, 4096, 5832, 8000, 10648, 13824, 15625, 17576, 21952, 27000, 32768, 39304, 42875, 46656, 54872, 64000, 74088, 85184, 91125, 97336, 110592, 125000, 140608, 157464, 166375, 175616, 195112, 216000, 238328, 262144, 274625, 287496, 314432, 343000, 373248, 405224, 421875, 438976, 474552, 512000, 551368, 592704, 614125, 636056, 681472, 729000, 778688, 830584, 857375, 884736, 941192, 1000000]\n"
     ]
    }
   ],
   "source": [
    "#Using While Loop\n",
    "i = 0\n",
    "while(i!=len(new_list1)):\n",
    "    new_list1[i] = new_list1[i]**3\n",
    "    if(new_list1[i]%4==0 or new_list1[i]%5==0):\n",
    "        list2.append(new_list1[i])\n",
    "    i = i + 1\n",
    "print(list2)\n"
   ]
  },
  {
   "cell_type": "code",
   "execution_count": 12,
   "id": "3e269fa8-66a2-47cb-8f87-a2eb069d4f53",
   "metadata": {},
   "outputs": [
    {
     "data": {
      "text/plain": [
       "'Q5. Write a program to filter count vowels in the below-given string.\\nstring = \"I want to become a data scientist\"'"
      ]
     },
     "execution_count": 12,
     "metadata": {},
     "output_type": "execute_result"
    }
   ],
   "source": [
    "'''Q5. Write a program to filter count vowels in the below-given string.\n",
    "string = \"I want to become a data scientist\"'''"
   ]
  },
  {
   "cell_type": "code",
   "execution_count": 13,
   "id": "2ad6aec0-4a41-439f-abfa-15bc6fa5c4a9",
   "metadata": {},
   "outputs": [],
   "source": [
    "string = \"I want to become a data scientist\""
   ]
  },
  {
   "cell_type": "code",
   "execution_count": null,
   "id": "062cf3b5-4c25-4fe6-bf7f-64e1843087c0",
   "metadata": {},
   "outputs": [],
   "source": [
    "li3 = []\n",
    "count = 0\n",
    "for i in string.lower():\n",
    "    if(i==\"a\" or i==\"e\" or i==\"i\" or i==\"o\" or i==\"u\"):\n",
    "        count = count+1\n",
    "print\n",
    "        "
   ]
  }
 ],
 "metadata": {
  "kernelspec": {
   "display_name": "Python 3 (ipykernel)",
   "language": "python",
   "name": "python3"
  },
  "language_info": {
   "codemirror_mode": {
    "name": "ipython",
    "version": 3
   },
   "file_extension": ".py",
   "mimetype": "text/x-python",
   "name": "python",
   "nbconvert_exporter": "python",
   "pygments_lexer": "ipython3",
   "version": "3.10.8"
  }
 },
 "nbformat": 4,
 "nbformat_minor": 5
}
